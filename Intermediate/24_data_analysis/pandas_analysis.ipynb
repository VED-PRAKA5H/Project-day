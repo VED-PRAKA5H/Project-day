{
 "cells": [
  {
   "cell_type": "markdown",
   "id": "0b326221-234e-4773-b358-c80ed4c42bce",
   "metadata": {},
   "source": [
    "# Data analysis: 1 \n",
    "**Dataset:** sample weather data."
   ]
  },
  {
   "cell_type": "code",
   "execution_count": 1,
   "id": "252852cf-f73d-4f06-9e54-c6a5a02c8537",
   "metadata": {},
   "outputs": [],
   "source": [
    "import pandas as pd"
   ]
  },
  {
   "cell_type": "code",
   "execution_count": 3,
   "id": "dd53d6cc-c6a7-42b6-ad81-5eb08e71e047",
   "metadata": {},
   "outputs": [],
   "source": [
    "weather = pd.read_csv(\"weather_data.csv\")"
   ]
  },
  {
   "cell_type": "code",
   "execution_count": 4,
   "id": "7007a3fd-f1b9-415d-bc35-1c28aad6d2c2",
   "metadata": {},
   "outputs": [
    {
     "data": {
      "text/plain": [
       "pandas.core.frame.DataFrame"
      ]
     },
     "execution_count": 4,
     "metadata": {},
     "output_type": "execute_result"
    }
   ],
   "source": [
    "# get the type of the data\n",
    "type(weather)"
   ]
  },
  {
   "cell_type": "code",
   "execution_count": 7,
   "id": "1a2346eb-31b4-4974-857b-f4915f8d3659",
   "metadata": {},
   "outputs": [
    {
     "data": {
      "text/plain": [
       "pandas.core.series.Series"
      ]
     },
     "execution_count": 7,
     "metadata": {},
     "output_type": "execute_result"
    }
   ],
   "source": [
    "# see the data type of a column\n",
    "type(weather['temp'])"
   ]
  },
  {
   "cell_type": "markdown",
   "id": "50374279-6956-40c2-88e0-8d3af0ac32be",
   "metadata": {},
   "source": [
    "we can each column is Series where whole table is DataFrame in pandas."
   ]
  },
  {
   "cell_type": "code",
   "execution_count": 8,
   "id": "94e39f59-525c-4b1d-9eca-b9a12ac8e5e9",
   "metadata": {},
   "outputs": [
    {
     "data": {
      "text/html": [
       "<div>\n",
       "<style scoped>\n",
       "    .dataframe tbody tr th:only-of-type {\n",
       "        vertical-align: middle;\n",
       "    }\n",
       "\n",
       "    .dataframe tbody tr th {\n",
       "        vertical-align: top;\n",
       "    }\n",
       "\n",
       "    .dataframe thead th {\n",
       "        text-align: right;\n",
       "    }\n",
       "</style>\n",
       "<table border=\"1\" class=\"dataframe\">\n",
       "  <thead>\n",
       "    <tr style=\"text-align: right;\">\n",
       "      <th></th>\n",
       "      <th>day</th>\n",
       "      <th>temp</th>\n",
       "      <th>condition</th>\n",
       "    </tr>\n",
       "  </thead>\n",
       "  <tbody>\n",
       "    <tr>\n",
       "      <th>0</th>\n",
       "      <td>Monday</td>\n",
       "      <td>12</td>\n",
       "      <td>Sunny</td>\n",
       "    </tr>\n",
       "    <tr>\n",
       "      <th>1</th>\n",
       "      <td>Tuesday</td>\n",
       "      <td>14</td>\n",
       "      <td>Rain</td>\n",
       "    </tr>\n",
       "    <tr>\n",
       "      <th>2</th>\n",
       "      <td>Wednesday</td>\n",
       "      <td>15</td>\n",
       "      <td>Rain</td>\n",
       "    </tr>\n",
       "    <tr>\n",
       "      <th>3</th>\n",
       "      <td>Thursday</td>\n",
       "      <td>14</td>\n",
       "      <td>Cloudy</td>\n",
       "    </tr>\n",
       "    <tr>\n",
       "      <th>4</th>\n",
       "      <td>Friday</td>\n",
       "      <td>21</td>\n",
       "      <td>Sunny</td>\n",
       "    </tr>\n",
       "    <tr>\n",
       "      <th>5</th>\n",
       "      <td>Saturday</td>\n",
       "      <td>22</td>\n",
       "      <td>Sunny</td>\n",
       "    </tr>\n",
       "    <tr>\n",
       "      <th>6</th>\n",
       "      <td>Sunday</td>\n",
       "      <td>24</td>\n",
       "      <td>Sunny</td>\n",
       "    </tr>\n",
       "  </tbody>\n",
       "</table>\n",
       "</div>"
      ],
      "text/plain": [
       "         day  temp condition\n",
       "0     Monday    12     Sunny\n",
       "1    Tuesday    14      Rain\n",
       "2  Wednesday    15      Rain\n",
       "3   Thursday    14    Cloudy\n",
       "4     Friday    21     Sunny\n",
       "5   Saturday    22     Sunny\n",
       "6     Sunday    24     Sunny"
      ]
     },
     "execution_count": 8,
     "metadata": {},
     "output_type": "execute_result"
    }
   ],
   "source": [
    "# see the data\n",
    "weather"
   ]
  },
  {
   "cell_type": "code",
   "execution_count": 10,
   "id": "830f5b1e-730b-4195-aa08-e4e457f0882e",
   "metadata": {},
   "outputs": [
    {
     "data": {
      "text/plain": [
       "{'day': {0: 'Monday',\n",
       "  1: 'Tuesday',\n",
       "  2: 'Wednesday',\n",
       "  3: 'Thursday',\n",
       "  4: 'Friday',\n",
       "  5: 'Saturday',\n",
       "  6: 'Sunday'},\n",
       " 'temp': {0: 12, 1: 14, 2: 15, 3: 14, 4: 21, 5: 22, 6: 24},\n",
       " 'condition': {0: 'Sunny',\n",
       "  1: 'Rain',\n",
       "  2: 'Rain',\n",
       "  3: 'Cloudy',\n",
       "  4: 'Sunny',\n",
       "  5: 'Sunny',\n",
       "  6: 'Sunny'}}"
      ]
     },
     "execution_count": 10,
     "metadata": {},
     "output_type": "execute_result"
    }
   ],
   "source": [
    "# convert the dataframe into a dictionary \n",
    "weather_dict = weather.to_dict()\n",
    "weather_dict"
   ]
  },
  {
   "cell_type": "code",
   "execution_count": 11,
   "id": "15e82ae6-123e-478a-9e83-54b09affabee",
   "metadata": {},
   "outputs": [
    {
     "data": {
      "text/plain": [
       "[12, 14, 15, 14, 21, 22, 24]"
      ]
     },
     "execution_count": 11,
     "metadata": {},
     "output_type": "execute_result"
    }
   ],
   "source": [
    "# convet a pandas series to list\n",
    "temp_list = weather['temp'].to_list()\n",
    "temp_list"
   ]
  },
  {
   "cell_type": "code",
   "execution_count": 12,
   "id": "7fda8a1a-2fc1-4942-8225-45b39730a09d",
   "metadata": {},
   "outputs": [
    {
     "data": {
      "text/plain": [
       "17.428571428571427"
      ]
     },
     "execution_count": 12,
     "metadata": {},
     "output_type": "execute_result"
    }
   ],
   "source": [
    "# average temperature\n",
    "weather['temp'].mean()"
   ]
  },
  {
   "cell_type": "code",
   "execution_count": 14,
   "id": "1ccbcaa1-e088-48d9-86c3-07dda79ede45",
   "metadata": {},
   "outputs": [
    {
     "data": {
      "text/html": [
       "<div>\n",
       "<style scoped>\n",
       "    .dataframe tbody tr th:only-of-type {\n",
       "        vertical-align: middle;\n",
       "    }\n",
       "\n",
       "    .dataframe tbody tr th {\n",
       "        vertical-align: top;\n",
       "    }\n",
       "\n",
       "    .dataframe thead th {\n",
       "        text-align: right;\n",
       "    }\n",
       "</style>\n",
       "<table border=\"1\" class=\"dataframe\">\n",
       "  <thead>\n",
       "    <tr style=\"text-align: right;\">\n",
       "      <th></th>\n",
       "      <th>day</th>\n",
       "      <th>temp</th>\n",
       "      <th>condition</th>\n",
       "    </tr>\n",
       "  </thead>\n",
       "  <tbody>\n",
       "    <tr>\n",
       "      <th>6</th>\n",
       "      <td>Sunday</td>\n",
       "      <td>24</td>\n",
       "      <td>Sunny</td>\n",
       "    </tr>\n",
       "  </tbody>\n",
       "</table>\n",
       "</div>"
      ],
      "text/plain": [
       "      day  temp condition\n",
       "6  Sunday    24     Sunny"
      ]
     },
     "execution_count": 14,
     "metadata": {},
     "output_type": "execute_result"
    }
   ],
   "source": [
    "# max temperature\n",
    "weather[weather['temp']==weather['temp'].max()]"
   ]
  },
  {
   "cell_type": "code",
   "execution_count": 16,
   "id": "341ef945-9aba-4d3a-8e97-dada5eea4f51",
   "metadata": {},
   "outputs": [
    {
     "data": {
      "text/plain": [
       "0    12\n",
       "1    14\n",
       "2    15\n",
       "3    14\n",
       "4    21\n",
       "5    22\n",
       "6    24\n",
       "Name: temp, dtype: int64"
      ]
     },
     "execution_count": 16,
     "metadata": {},
     "output_type": "execute_result"
    }
   ],
   "source": [
    "# Get data in columns\n",
    "weather['temp']\n",
    "weather.temp"
   ]
  },
  {
   "cell_type": "code",
   "execution_count": 20,
   "id": "f70f260e-50ff-4c50-a22b-ad5c5a6c8f67",
   "metadata": {},
   "outputs": [
    {
     "data": {
      "text/html": [
       "<div>\n",
       "<style scoped>\n",
       "    .dataframe tbody tr th:only-of-type {\n",
       "        vertical-align: middle;\n",
       "    }\n",
       "\n",
       "    .dataframe tbody tr th {\n",
       "        vertical-align: top;\n",
       "    }\n",
       "\n",
       "    .dataframe thead th {\n",
       "        text-align: right;\n",
       "    }\n",
       "</style>\n",
       "<table border=\"1\" class=\"dataframe\">\n",
       "  <thead>\n",
       "    <tr style=\"text-align: right;\">\n",
       "      <th></th>\n",
       "      <th>day</th>\n",
       "      <th>temp</th>\n",
       "      <th>condition</th>\n",
       "    </tr>\n",
       "  </thead>\n",
       "  <tbody>\n",
       "    <tr>\n",
       "      <th>6</th>\n",
       "      <td>Sunday</td>\n",
       "      <td>24</td>\n",
       "      <td>Sunny</td>\n",
       "    </tr>\n",
       "  </tbody>\n",
       "</table>\n",
       "</div>"
      ],
      "text/plain": [
       "      day  temp condition\n",
       "6  Sunday    24     Sunny"
      ]
     },
     "execution_count": 20,
     "metadata": {},
     "output_type": "execute_result"
    }
   ],
   "source": [
    "# Get data in rows\n",
    "weather[weather.day == \"Sunday\"]"
   ]
  },
  {
   "cell_type": "code",
   "execution_count": 22,
   "id": "5738457a-8402-4e6a-945c-5894b3b9d789",
   "metadata": {},
   "outputs": [
    {
     "data": {
      "text/plain": [
       "0    Sunny\n",
       "Name: condition, dtype: object"
      ]
     },
     "execution_count": 22,
     "metadata": {},
     "output_type": "execute_result"
    }
   ],
   "source": [
    "# You can apply column aperation on \n",
    "monday = weather[weather.day == \"Monday\"]\n",
    "monday.condition"
   ]
  },
  {
   "cell_type": "code",
   "execution_count": 25,
   "id": "1a2a3987-6037-406d-b424-03f6375ecf73",
   "metadata": {},
   "outputs": [],
   "source": [
    "# convert the temperature into Fahrenheit\n",
    "weather['temp_in_F'] = weather.temp.apply(lambda c: 9*c/5+32)"
   ]
  },
  {
   "cell_type": "code",
   "execution_count": 26,
   "id": "81c5b884-68e4-4593-838f-9499ebc03166",
   "metadata": {},
   "outputs": [
    {
     "data": {
      "text/html": [
       "<div>\n",
       "<style scoped>\n",
       "    .dataframe tbody tr th:only-of-type {\n",
       "        vertical-align: middle;\n",
       "    }\n",
       "\n",
       "    .dataframe tbody tr th {\n",
       "        vertical-align: top;\n",
       "    }\n",
       "\n",
       "    .dataframe thead th {\n",
       "        text-align: right;\n",
       "    }\n",
       "</style>\n",
       "<table border=\"1\" class=\"dataframe\">\n",
       "  <thead>\n",
       "    <tr style=\"text-align: right;\">\n",
       "      <th></th>\n",
       "      <th>day</th>\n",
       "      <th>temp</th>\n",
       "      <th>condition</th>\n",
       "      <th>temp_in_F</th>\n",
       "    </tr>\n",
       "  </thead>\n",
       "  <tbody>\n",
       "    <tr>\n",
       "      <th>0</th>\n",
       "      <td>Monday</td>\n",
       "      <td>12</td>\n",
       "      <td>Sunny</td>\n",
       "      <td>53.6</td>\n",
       "    </tr>\n",
       "    <tr>\n",
       "      <th>1</th>\n",
       "      <td>Tuesday</td>\n",
       "      <td>14</td>\n",
       "      <td>Rain</td>\n",
       "      <td>57.2</td>\n",
       "    </tr>\n",
       "    <tr>\n",
       "      <th>2</th>\n",
       "      <td>Wednesday</td>\n",
       "      <td>15</td>\n",
       "      <td>Rain</td>\n",
       "      <td>59.0</td>\n",
       "    </tr>\n",
       "    <tr>\n",
       "      <th>3</th>\n",
       "      <td>Thursday</td>\n",
       "      <td>14</td>\n",
       "      <td>Cloudy</td>\n",
       "      <td>57.2</td>\n",
       "    </tr>\n",
       "    <tr>\n",
       "      <th>4</th>\n",
       "      <td>Friday</td>\n",
       "      <td>21</td>\n",
       "      <td>Sunny</td>\n",
       "      <td>69.8</td>\n",
       "    </tr>\n",
       "    <tr>\n",
       "      <th>5</th>\n",
       "      <td>Saturday</td>\n",
       "      <td>22</td>\n",
       "      <td>Sunny</td>\n",
       "      <td>71.6</td>\n",
       "    </tr>\n",
       "    <tr>\n",
       "      <th>6</th>\n",
       "      <td>Sunday</td>\n",
       "      <td>24</td>\n",
       "      <td>Sunny</td>\n",
       "      <td>75.2</td>\n",
       "    </tr>\n",
       "  </tbody>\n",
       "</table>\n",
       "</div>"
      ],
      "text/plain": [
       "         day  temp condition  temp_in_F\n",
       "0     Monday    12     Sunny       53.6\n",
       "1    Tuesday    14      Rain       57.2\n",
       "2  Wednesday    15      Rain       59.0\n",
       "3   Thursday    14    Cloudy       57.2\n",
       "4     Friday    21     Sunny       69.8\n",
       "5   Saturday    22     Sunny       71.6\n",
       "6     Sunday    24     Sunny       75.2"
      ]
     },
     "execution_count": 26,
     "metadata": {},
     "output_type": "execute_result"
    }
   ],
   "source": [
    "weather"
   ]
  },
  {
   "cell_type": "markdown",
   "id": "e751e364-70c9-4b84-a410-8b4bb2bf8e9c",
   "metadata": {},
   "source": [
    "## Create a DataFrame"
   ]
  },
  {
   "cell_type": "code",
   "execution_count": 27,
   "id": "beaec471-718a-483d-95a4-7aca327d98cc",
   "metadata": {},
   "outputs": [],
   "source": [
    "data_dict = {'students': ['Raj', 'Pushpa'],\n",
    "             'age': [23,30]\n",
    "            }"
   ]
  },
  {
   "cell_type": "code",
   "execution_count": 29,
   "id": "d214f4a3-98f8-4a45-b2bb-1882f5e669cc",
   "metadata": {},
   "outputs": [
    {
     "data": {
      "text/html": [
       "<div>\n",
       "<style scoped>\n",
       "    .dataframe tbody tr th:only-of-type {\n",
       "        vertical-align: middle;\n",
       "    }\n",
       "\n",
       "    .dataframe tbody tr th {\n",
       "        vertical-align: top;\n",
       "    }\n",
       "\n",
       "    .dataframe thead th {\n",
       "        text-align: right;\n",
       "    }\n",
       "</style>\n",
       "<table border=\"1\" class=\"dataframe\">\n",
       "  <thead>\n",
       "    <tr style=\"text-align: right;\">\n",
       "      <th></th>\n",
       "      <th>students</th>\n",
       "      <th>age</th>\n",
       "    </tr>\n",
       "  </thead>\n",
       "  <tbody>\n",
       "    <tr>\n",
       "      <th>0</th>\n",
       "      <td>Raj</td>\n",
       "      <td>23</td>\n",
       "    </tr>\n",
       "    <tr>\n",
       "      <th>1</th>\n",
       "      <td>Pushpa</td>\n",
       "      <td>30</td>\n",
       "    </tr>\n",
       "  </tbody>\n",
       "</table>\n",
       "</div>"
      ],
      "text/plain": [
       "  students  age\n",
       "0      Raj   23\n",
       "1   Pushpa   30"
      ]
     },
     "execution_count": 29,
     "metadata": {},
     "output_type": "execute_result"
    }
   ],
   "source": [
    "data = pd.DataFrame(data_dict)\n",
    "data"
   ]
  },
  {
   "cell_type": "code",
   "execution_count": null,
   "id": "9d346929-ba7e-425e-abdb-a6d47c3c5117",
   "metadata": {},
   "outputs": [],
   "source": [
    "# save the dataframe to csv\n",
    "data.to_csv('new_data.csv')"
   ]
  },
  {
   "cell_type": "markdown",
   "id": "7e1480e3-09cb-4d92-b2da-251138aa9861",
   "metadata": {},
   "source": [
    "# Data analysis: 2 \n",
    "**Dataset:** 2018 Central Park Squirrel Census."
   ]
  },
  {
   "cell_type": "code",
   "execution_count": 30,
   "id": "dd4cf052-682b-4308-87a4-0557fdcc5c96",
   "metadata": {},
   "outputs": [],
   "source": [
    "data = pd.read_csv(\"2018_Central_Park_Squirrel_Census_-_Squirrel_Data.csv\")"
   ]
  },
  {
   "cell_type": "markdown",
   "id": "006b28bf-bd24-440a-8deb-13761d262694",
   "metadata": {},
   "source": [
    "## Task 1\n",
    "create new csv file that contains squirrel count for grey, black, cinnamen colors."
   ]
  },
  {
   "cell_type": "code",
   "execution_count": 31,
   "id": "9442265d-e166-4ad6-9aaf-bd3a0321b8b2",
   "metadata": {},
   "outputs": [
    {
     "data": {
      "text/html": [
       "<div>\n",
       "<style scoped>\n",
       "    .dataframe tbody tr th:only-of-type {\n",
       "        vertical-align: middle;\n",
       "    }\n",
       "\n",
       "    .dataframe tbody tr th {\n",
       "        vertical-align: top;\n",
       "    }\n",
       "\n",
       "    .dataframe thead th {\n",
       "        text-align: right;\n",
       "    }\n",
       "</style>\n",
       "<table border=\"1\" class=\"dataframe\">\n",
       "  <thead>\n",
       "    <tr style=\"text-align: right;\">\n",
       "      <th></th>\n",
       "      <th>X</th>\n",
       "      <th>Y</th>\n",
       "      <th>Unique Squirrel ID</th>\n",
       "      <th>Hectare</th>\n",
       "      <th>Shift</th>\n",
       "      <th>Date</th>\n",
       "      <th>Hectare Squirrel Number</th>\n",
       "      <th>Age</th>\n",
       "      <th>Primary Fur Color</th>\n",
       "      <th>Highlight Fur Color</th>\n",
       "      <th>...</th>\n",
       "      <th>Kuks</th>\n",
       "      <th>Quaas</th>\n",
       "      <th>Moans</th>\n",
       "      <th>Tail flags</th>\n",
       "      <th>Tail twitches</th>\n",
       "      <th>Approaches</th>\n",
       "      <th>Indifferent</th>\n",
       "      <th>Runs from</th>\n",
       "      <th>Other Interactions</th>\n",
       "      <th>Lat/Long</th>\n",
       "    </tr>\n",
       "  </thead>\n",
       "  <tbody>\n",
       "    <tr>\n",
       "      <th>0</th>\n",
       "      <td>-73.956134</td>\n",
       "      <td>40.794082</td>\n",
       "      <td>37F-PM-1014-03</td>\n",
       "      <td>37F</td>\n",
       "      <td>PM</td>\n",
       "      <td>10142018</td>\n",
       "      <td>3</td>\n",
       "      <td>NaN</td>\n",
       "      <td>NaN</td>\n",
       "      <td>NaN</td>\n",
       "      <td>...</td>\n",
       "      <td>False</td>\n",
       "      <td>False</td>\n",
       "      <td>False</td>\n",
       "      <td>False</td>\n",
       "      <td>False</td>\n",
       "      <td>False</td>\n",
       "      <td>False</td>\n",
       "      <td>False</td>\n",
       "      <td>NaN</td>\n",
       "      <td>POINT (-73.9561344937861 40.7940823884086)</td>\n",
       "    </tr>\n",
       "    <tr>\n",
       "      <th>1</th>\n",
       "      <td>-73.957044</td>\n",
       "      <td>40.794851</td>\n",
       "      <td>37E-PM-1006-03</td>\n",
       "      <td>37E</td>\n",
       "      <td>PM</td>\n",
       "      <td>10062018</td>\n",
       "      <td>3</td>\n",
       "      <td>Adult</td>\n",
       "      <td>Gray</td>\n",
       "      <td>Cinnamon</td>\n",
       "      <td>...</td>\n",
       "      <td>False</td>\n",
       "      <td>False</td>\n",
       "      <td>False</td>\n",
       "      <td>False</td>\n",
       "      <td>False</td>\n",
       "      <td>False</td>\n",
       "      <td>False</td>\n",
       "      <td>True</td>\n",
       "      <td>me</td>\n",
       "      <td>POINT (-73.9570437717691 40.794850940803904)</td>\n",
       "    </tr>\n",
       "    <tr>\n",
       "      <th>2</th>\n",
       "      <td>-73.976831</td>\n",
       "      <td>40.766718</td>\n",
       "      <td>2E-AM-1010-03</td>\n",
       "      <td>02E</td>\n",
       "      <td>AM</td>\n",
       "      <td>10102018</td>\n",
       "      <td>3</td>\n",
       "      <td>Adult</td>\n",
       "      <td>Cinnamon</td>\n",
       "      <td>NaN</td>\n",
       "      <td>...</td>\n",
       "      <td>False</td>\n",
       "      <td>False</td>\n",
       "      <td>False</td>\n",
       "      <td>False</td>\n",
       "      <td>False</td>\n",
       "      <td>False</td>\n",
       "      <td>True</td>\n",
       "      <td>False</td>\n",
       "      <td>NaN</td>\n",
       "      <td>POINT (-73.9768311751004 40.76671780725581)</td>\n",
       "    </tr>\n",
       "    <tr>\n",
       "      <th>3</th>\n",
       "      <td>-73.975725</td>\n",
       "      <td>40.769703</td>\n",
       "      <td>5D-PM-1018-05</td>\n",
       "      <td>05D</td>\n",
       "      <td>PM</td>\n",
       "      <td>10182018</td>\n",
       "      <td>5</td>\n",
       "      <td>Juvenile</td>\n",
       "      <td>Gray</td>\n",
       "      <td>NaN</td>\n",
       "      <td>...</td>\n",
       "      <td>False</td>\n",
       "      <td>False</td>\n",
       "      <td>False</td>\n",
       "      <td>False</td>\n",
       "      <td>False</td>\n",
       "      <td>False</td>\n",
       "      <td>False</td>\n",
       "      <td>True</td>\n",
       "      <td>NaN</td>\n",
       "      <td>POINT (-73.9757249834141 40.7697032606755)</td>\n",
       "    </tr>\n",
       "    <tr>\n",
       "      <th>4</th>\n",
       "      <td>-73.959313</td>\n",
       "      <td>40.797533</td>\n",
       "      <td>39B-AM-1018-01</td>\n",
       "      <td>39B</td>\n",
       "      <td>AM</td>\n",
       "      <td>10182018</td>\n",
       "      <td>1</td>\n",
       "      <td>NaN</td>\n",
       "      <td>NaN</td>\n",
       "      <td>NaN</td>\n",
       "      <td>...</td>\n",
       "      <td>True</td>\n",
       "      <td>False</td>\n",
       "      <td>False</td>\n",
       "      <td>False</td>\n",
       "      <td>False</td>\n",
       "      <td>False</td>\n",
       "      <td>False</td>\n",
       "      <td>False</td>\n",
       "      <td>NaN</td>\n",
       "      <td>POINT (-73.9593126695714 40.797533370163)</td>\n",
       "    </tr>\n",
       "    <tr>\n",
       "      <th>...</th>\n",
       "      <td>...</td>\n",
       "      <td>...</td>\n",
       "      <td>...</td>\n",
       "      <td>...</td>\n",
       "      <td>...</td>\n",
       "      <td>...</td>\n",
       "      <td>...</td>\n",
       "      <td>...</td>\n",
       "      <td>...</td>\n",
       "      <td>...</td>\n",
       "      <td>...</td>\n",
       "      <td>...</td>\n",
       "      <td>...</td>\n",
       "      <td>...</td>\n",
       "      <td>...</td>\n",
       "      <td>...</td>\n",
       "      <td>...</td>\n",
       "      <td>...</td>\n",
       "      <td>...</td>\n",
       "      <td>...</td>\n",
       "      <td>...</td>\n",
       "    </tr>\n",
       "    <tr>\n",
       "      <th>3018</th>\n",
       "      <td>-73.963943</td>\n",
       "      <td>40.790868</td>\n",
       "      <td>30B-AM-1007-04</td>\n",
       "      <td>30B</td>\n",
       "      <td>AM</td>\n",
       "      <td>10072018</td>\n",
       "      <td>4</td>\n",
       "      <td>Adult</td>\n",
       "      <td>Gray</td>\n",
       "      <td>NaN</td>\n",
       "      <td>...</td>\n",
       "      <td>False</td>\n",
       "      <td>False</td>\n",
       "      <td>False</td>\n",
       "      <td>False</td>\n",
       "      <td>False</td>\n",
       "      <td>False</td>\n",
       "      <td>False</td>\n",
       "      <td>True</td>\n",
       "      <td>NaN</td>\n",
       "      <td>POINT (-73.9639431360458 40.7908677445466)</td>\n",
       "    </tr>\n",
       "    <tr>\n",
       "      <th>3019</th>\n",
       "      <td>-73.970402</td>\n",
       "      <td>40.782560</td>\n",
       "      <td>19A-PM-1013-05</td>\n",
       "      <td>19A</td>\n",
       "      <td>PM</td>\n",
       "      <td>10132018</td>\n",
       "      <td>5</td>\n",
       "      <td>Adult</td>\n",
       "      <td>Gray</td>\n",
       "      <td>White</td>\n",
       "      <td>...</td>\n",
       "      <td>False</td>\n",
       "      <td>False</td>\n",
       "      <td>False</td>\n",
       "      <td>False</td>\n",
       "      <td>False</td>\n",
       "      <td>False</td>\n",
       "      <td>True</td>\n",
       "      <td>False</td>\n",
       "      <td>NaN</td>\n",
       "      <td>POINT (-73.9704015859639 40.7825600069973)</td>\n",
       "    </tr>\n",
       "    <tr>\n",
       "      <th>3020</th>\n",
       "      <td>-73.966587</td>\n",
       "      <td>40.783678</td>\n",
       "      <td>22D-PM-1012-07</td>\n",
       "      <td>22D</td>\n",
       "      <td>PM</td>\n",
       "      <td>10122018</td>\n",
       "      <td>7</td>\n",
       "      <td>Adult</td>\n",
       "      <td>Gray</td>\n",
       "      <td>Black, Cinnamon, White</td>\n",
       "      <td>...</td>\n",
       "      <td>False</td>\n",
       "      <td>False</td>\n",
       "      <td>False</td>\n",
       "      <td>False</td>\n",
       "      <td>False</td>\n",
       "      <td>False</td>\n",
       "      <td>True</td>\n",
       "      <td>False</td>\n",
       "      <td>NaN</td>\n",
       "      <td>POINT (-73.9665871993517 40.7836775064883)</td>\n",
       "    </tr>\n",
       "    <tr>\n",
       "      <th>3021</th>\n",
       "      <td>-73.963994</td>\n",
       "      <td>40.789915</td>\n",
       "      <td>29B-PM-1010-02</td>\n",
       "      <td>29B</td>\n",
       "      <td>PM</td>\n",
       "      <td>10102018</td>\n",
       "      <td>2</td>\n",
       "      <td>NaN</td>\n",
       "      <td>Gray</td>\n",
       "      <td>Cinnamon, White</td>\n",
       "      <td>...</td>\n",
       "      <td>False</td>\n",
       "      <td>False</td>\n",
       "      <td>False</td>\n",
       "      <td>False</td>\n",
       "      <td>False</td>\n",
       "      <td>False</td>\n",
       "      <td>True</td>\n",
       "      <td>False</td>\n",
       "      <td>NaN</td>\n",
       "      <td>POINT (-73.9639941227864 40.7899152327912)</td>\n",
       "    </tr>\n",
       "    <tr>\n",
       "      <th>3022</th>\n",
       "      <td>-73.975479</td>\n",
       "      <td>40.769640</td>\n",
       "      <td>5E-PM-1012-01</td>\n",
       "      <td>05E</td>\n",
       "      <td>PM</td>\n",
       "      <td>10122018</td>\n",
       "      <td>1</td>\n",
       "      <td>Adult</td>\n",
       "      <td>Cinnamon</td>\n",
       "      <td>Gray, White</td>\n",
       "      <td>...</td>\n",
       "      <td>False</td>\n",
       "      <td>False</td>\n",
       "      <td>False</td>\n",
       "      <td>False</td>\n",
       "      <td>False</td>\n",
       "      <td>True</td>\n",
       "      <td>False</td>\n",
       "      <td>False</td>\n",
       "      <td>NaN</td>\n",
       "      <td>POINT (-73.9754794191553 40.7696404489025)</td>\n",
       "    </tr>\n",
       "  </tbody>\n",
       "</table>\n",
       "<p>3023 rows × 31 columns</p>\n",
       "</div>"
      ],
      "text/plain": [
       "              X          Y Unique Squirrel ID Hectare Shift      Date  \\\n",
       "0    -73.956134  40.794082     37F-PM-1014-03     37F    PM  10142018   \n",
       "1    -73.957044  40.794851     37E-PM-1006-03     37E    PM  10062018   \n",
       "2    -73.976831  40.766718      2E-AM-1010-03     02E    AM  10102018   \n",
       "3    -73.975725  40.769703      5D-PM-1018-05     05D    PM  10182018   \n",
       "4    -73.959313  40.797533     39B-AM-1018-01     39B    AM  10182018   \n",
       "...         ...        ...                ...     ...   ...       ...   \n",
       "3018 -73.963943  40.790868     30B-AM-1007-04     30B    AM  10072018   \n",
       "3019 -73.970402  40.782560     19A-PM-1013-05     19A    PM  10132018   \n",
       "3020 -73.966587  40.783678     22D-PM-1012-07     22D    PM  10122018   \n",
       "3021 -73.963994  40.789915     29B-PM-1010-02     29B    PM  10102018   \n",
       "3022 -73.975479  40.769640      5E-PM-1012-01     05E    PM  10122018   \n",
       "\n",
       "      Hectare Squirrel Number       Age Primary Fur Color  \\\n",
       "0                           3       NaN               NaN   \n",
       "1                           3     Adult              Gray   \n",
       "2                           3     Adult          Cinnamon   \n",
       "3                           5  Juvenile              Gray   \n",
       "4                           1       NaN               NaN   \n",
       "...                       ...       ...               ...   \n",
       "3018                        4     Adult              Gray   \n",
       "3019                        5     Adult              Gray   \n",
       "3020                        7     Adult              Gray   \n",
       "3021                        2       NaN              Gray   \n",
       "3022                        1     Adult          Cinnamon   \n",
       "\n",
       "         Highlight Fur Color  ...   Kuks  Quaas  Moans Tail flags  \\\n",
       "0                        NaN  ...  False  False  False      False   \n",
       "1                   Cinnamon  ...  False  False  False      False   \n",
       "2                        NaN  ...  False  False  False      False   \n",
       "3                        NaN  ...  False  False  False      False   \n",
       "4                        NaN  ...   True  False  False      False   \n",
       "...                      ...  ...    ...    ...    ...        ...   \n",
       "3018                     NaN  ...  False  False  False      False   \n",
       "3019                   White  ...  False  False  False      False   \n",
       "3020  Black, Cinnamon, White  ...  False  False  False      False   \n",
       "3021         Cinnamon, White  ...  False  False  False      False   \n",
       "3022             Gray, White  ...  False  False  False      False   \n",
       "\n",
       "     Tail twitches  Approaches  Indifferent  Runs from  Other Interactions  \\\n",
       "0            False       False        False      False                 NaN   \n",
       "1            False       False        False       True                  me   \n",
       "2            False       False         True      False                 NaN   \n",
       "3            False       False        False       True                 NaN   \n",
       "4            False       False        False      False                 NaN   \n",
       "...            ...         ...          ...        ...                 ...   \n",
       "3018         False       False        False       True                 NaN   \n",
       "3019         False       False         True      False                 NaN   \n",
       "3020         False       False         True      False                 NaN   \n",
       "3021         False       False         True      False                 NaN   \n",
       "3022         False        True        False      False                 NaN   \n",
       "\n",
       "                                          Lat/Long  \n",
       "0       POINT (-73.9561344937861 40.7940823884086)  \n",
       "1     POINT (-73.9570437717691 40.794850940803904)  \n",
       "2      POINT (-73.9768311751004 40.76671780725581)  \n",
       "3       POINT (-73.9757249834141 40.7697032606755)  \n",
       "4        POINT (-73.9593126695714 40.797533370163)  \n",
       "...                                            ...  \n",
       "3018    POINT (-73.9639431360458 40.7908677445466)  \n",
       "3019    POINT (-73.9704015859639 40.7825600069973)  \n",
       "3020    POINT (-73.9665871993517 40.7836775064883)  \n",
       "3021    POINT (-73.9639941227864 40.7899152327912)  \n",
       "3022    POINT (-73.9754794191553 40.7696404489025)  \n",
       "\n",
       "[3023 rows x 31 columns]"
      ]
     },
     "execution_count": 31,
     "metadata": {},
     "output_type": "execute_result"
    }
   ],
   "source": [
    "data"
   ]
  },
  {
   "cell_type": "code",
   "execution_count": 53,
   "id": "1d4483c1-a96e-4c2c-bd90-c76967dde2bc",
   "metadata": {},
   "outputs": [],
   "source": [
    "colors = ['Gray', 'Black', 'Cinnamon']\n",
    "sq_dict = dict()\n",
    "for c in colors:\n",
    "    sq_dict[c] = len(data[data['Primary Fur Color'] == c]['Primary Fur Color'])"
   ]
  },
  {
   "cell_type": "code",
   "execution_count": 54,
   "id": "d364cbc7-bc19-4162-a816-2be7ab2d9e62",
   "metadata": {},
   "outputs": [
    {
     "data": {
      "text/plain": [
       "{'Gray': 2473, 'Black': 103, 'Cinnamon': 392}"
      ]
     },
     "execution_count": 54,
     "metadata": {},
     "output_type": "execute_result"
    }
   ],
   "source": [
    "sq_dict"
   ]
  },
  {
   "cell_type": "code",
   "execution_count": null,
   "id": "34d1ab19-49e3-43e8-8746-20969a126ea0",
   "metadata": {},
   "outputs": [],
   "source": [
    "sq_dict.to_csv('data.csv')"
   ]
  }
 ],
 "metadata": {
  "kernelspec": {
   "display_name": "Python 3 (ipykernel)",
   "language": "python",
   "name": "python3"
  },
  "language_info": {
   "codemirror_mode": {
    "name": "ipython",
    "version": 3
   },
   "file_extension": ".py",
   "mimetype": "text/x-python",
   "name": "python",
   "nbconvert_exporter": "python",
   "pygments_lexer": "ipython3",
   "version": "3.12.1"
  }
 },
 "nbformat": 4,
 "nbformat_minor": 5
}
